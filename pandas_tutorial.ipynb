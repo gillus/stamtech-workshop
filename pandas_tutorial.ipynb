{
 "cells": [
  {
   "cell_type": "code",
   "execution_count": 1,
   "metadata": {
    "id": "wA0lVlV-Lfop"
   },
   "outputs": [],
   "source": [
    "import pandas as pd\n",
    "import numpy as np\n",
    "\n"
   ]
  },
  {
   "cell_type": "code",
   "execution_count": 30,
   "metadata": {
    "id": "T2nvLQy33Qip"
   },
   "outputs": [
    {
     "data": {
      "text/plain": [
       "count    7.000000\n",
       "mean     4.000000\n",
       "std      2.160247\n",
       "min      1.000000\n",
       "25%      2.500000\n",
       "50%      4.000000\n",
       "75%      5.500000\n",
       "max      7.000000\n",
       "dtype: float64"
      ]
     },
     "execution_count": 30,
     "metadata": {},
     "output_type": "execute_result"
    }
   ],
   "source": [
    "# Creazione di una series a partire da una lista\n",
    "series = pd.Series([1,2,3,4,5,6,7])\n",
    "\n",
    "\n",
    "series.describe()\n"
   ]
  },
  {
   "cell_type": "code",
   "execution_count": 31,
   "metadata": {
    "colab": {
     "base_uri": "https://localhost:8080/",
     "height": 300
    },
    "id": "zc0uKpvcLgr8",
    "outputId": "505fb678-4615-41f3-85c4-fece9310220e"
   },
   "outputs": [
    {
     "data": {
      "text/html": [
       "<div>\n",
       "<style scoped>\n",
       "    .dataframe tbody tr th:only-of-type {\n",
       "        vertical-align: middle;\n",
       "    }\n",
       "\n",
       "    .dataframe tbody tr th {\n",
       "        vertical-align: top;\n",
       "    }\n",
       "\n",
       "    .dataframe thead th {\n",
       "        text-align: right;\n",
       "    }\n",
       "</style>\n",
       "<table border=\"1\" class=\"dataframe\">\n",
       "  <thead>\n",
       "    <tr style=\"text-align: right;\">\n",
       "      <th></th>\n",
       "      <th>apples</th>\n",
       "      <th>bananas</th>\n",
       "    </tr>\n",
       "  </thead>\n",
       "  <tbody>\n",
       "    <tr>\n",
       "      <th>count</th>\n",
       "      <td>3.0</td>\n",
       "      <td>3.0</td>\n",
       "    </tr>\n",
       "    <tr>\n",
       "      <th>mean</th>\n",
       "      <td>0.0</td>\n",
       "      <td>1.0</td>\n",
       "    </tr>\n",
       "    <tr>\n",
       "      <th>std</th>\n",
       "      <td>0.0</td>\n",
       "      <td>0.0</td>\n",
       "    </tr>\n",
       "    <tr>\n",
       "      <th>min</th>\n",
       "      <td>0.0</td>\n",
       "      <td>1.0</td>\n",
       "    </tr>\n",
       "    <tr>\n",
       "      <th>25%</th>\n",
       "      <td>0.0</td>\n",
       "      <td>1.0</td>\n",
       "    </tr>\n",
       "    <tr>\n",
       "      <th>50%</th>\n",
       "      <td>0.0</td>\n",
       "      <td>1.0</td>\n",
       "    </tr>\n",
       "    <tr>\n",
       "      <th>75%</th>\n",
       "      <td>0.0</td>\n",
       "      <td>1.0</td>\n",
       "    </tr>\n",
       "    <tr>\n",
       "      <th>max</th>\n",
       "      <td>0.0</td>\n",
       "      <td>1.0</td>\n",
       "    </tr>\n",
       "  </tbody>\n",
       "</table>\n",
       "</div>"
      ],
      "text/plain": [
       "       apples  bananas\n",
       "count     3.0      3.0\n",
       "mean      0.0      1.0\n",
       "std       0.0      0.0\n",
       "min       0.0      1.0\n",
       "25%       0.0      1.0\n",
       "50%       0.0      1.0\n",
       "75%       0.0      1.0\n",
       "max       0.0      1.0"
      ]
     },
     "execution_count": 31,
     "metadata": {},
     "output_type": "execute_result"
    }
   ],
   "source": [
    "# Creazione di un dataframe a partire da una lista di liste\n",
    "df = pd.DataFrame([[0,1],[0,1],[0,1]], columns=['apples','bananas'])\n",
    "df.describe()"
   ]
  },
  {
   "cell_type": "markdown",
   "metadata": {
    "id": "VacdfIT6Hivb"
   },
   "source": [
    "# Caricamento di un dataframe da csv\n"
   ]
  },
  {
   "cell_type": "code",
   "execution_count": 4,
   "metadata": {
    "id": "t3q4WK2_3jSQ"
   },
   "outputs": [],
   "source": [
    "dataframe = pd.read_csv('adult_training.csv')"
   ]
  },
  {
   "cell_type": "markdown",
   "metadata": {
    "id": "boWweZ2oI-gK"
   },
   "source": [
    "## Esplorazione dati\n",
    "\n"
   ]
  },
  {
   "cell_type": "code",
   "execution_count": 5,
   "metadata": {
    "colab": {
     "base_uri": "https://localhost:8080/",
     "height": 206
    },
    "id": "UbVm8RKt7aPF",
    "outputId": "ac8daccc-4b66-4af7-c628-098763a266d1"
   },
   "outputs": [
    {
     "data": {
      "text/html": [
       "<div>\n",
       "<style scoped>\n",
       "    .dataframe tbody tr th:only-of-type {\n",
       "        vertical-align: middle;\n",
       "    }\n",
       "\n",
       "    .dataframe tbody tr th {\n",
       "        vertical-align: top;\n",
       "    }\n",
       "\n",
       "    .dataframe thead th {\n",
       "        text-align: right;\n",
       "    }\n",
       "</style>\n",
       "<table border=\"1\" class=\"dataframe\">\n",
       "  <thead>\n",
       "    <tr style=\"text-align: right;\">\n",
       "      <th></th>\n",
       "      <th>age</th>\n",
       "      <th>work_class</th>\n",
       "      <th>education</th>\n",
       "      <th>marital_status</th>\n",
       "      <th>occupation</th>\n",
       "      <th>relationship</th>\n",
       "      <th>race</th>\n",
       "      <th>sex</th>\n",
       "      <th>capital_gain</th>\n",
       "      <th>capital_loss</th>\n",
       "      <th>hours_per_week</th>\n",
       "      <th>native_country</th>\n",
       "      <th>income</th>\n",
       "    </tr>\n",
       "  </thead>\n",
       "  <tbody>\n",
       "    <tr>\n",
       "      <th>0</th>\n",
       "      <td>39</td>\n",
       "      <td>State-gov</td>\n",
       "      <td>Bachelors</td>\n",
       "      <td>Never-Married</td>\n",
       "      <td>Admin</td>\n",
       "      <td>Not-in-family</td>\n",
       "      <td>White</td>\n",
       "      <td>Male</td>\n",
       "      <td>2174</td>\n",
       "      <td>0</td>\n",
       "      <td>40</td>\n",
       "      <td>United-States</td>\n",
       "      <td>&lt;=50K</td>\n",
       "    </tr>\n",
       "    <tr>\n",
       "      <th>1</th>\n",
       "      <td>50</td>\n",
       "      <td>Self-emp-not-inc</td>\n",
       "      <td>Bachelors</td>\n",
       "      <td>Married</td>\n",
       "      <td>White-Collar</td>\n",
       "      <td>Husband</td>\n",
       "      <td>White</td>\n",
       "      <td>Male</td>\n",
       "      <td>0</td>\n",
       "      <td>0</td>\n",
       "      <td>13</td>\n",
       "      <td>United-States</td>\n",
       "      <td>&lt;=50K</td>\n",
       "    </tr>\n",
       "    <tr>\n",
       "      <th>2</th>\n",
       "      <td>38</td>\n",
       "      <td>Private</td>\n",
       "      <td>High School grad</td>\n",
       "      <td>Separated</td>\n",
       "      <td>Blue-Collar</td>\n",
       "      <td>Not-in-family</td>\n",
       "      <td>White</td>\n",
       "      <td>Male</td>\n",
       "      <td>0</td>\n",
       "      <td>0</td>\n",
       "      <td>40</td>\n",
       "      <td>United-States</td>\n",
       "      <td>&lt;=50K</td>\n",
       "    </tr>\n",
       "    <tr>\n",
       "      <th>3</th>\n",
       "      <td>53</td>\n",
       "      <td>Private</td>\n",
       "      <td>Dropout</td>\n",
       "      <td>Married</td>\n",
       "      <td>Blue-Collar</td>\n",
       "      <td>Husband</td>\n",
       "      <td>Black</td>\n",
       "      <td>Male</td>\n",
       "      <td>0</td>\n",
       "      <td>0</td>\n",
       "      <td>40</td>\n",
       "      <td>United-States</td>\n",
       "      <td>&lt;=50K</td>\n",
       "    </tr>\n",
       "    <tr>\n",
       "      <th>4</th>\n",
       "      <td>28</td>\n",
       "      <td>Private</td>\n",
       "      <td>Bachelors</td>\n",
       "      <td>Married</td>\n",
       "      <td>Professional</td>\n",
       "      <td>Wife</td>\n",
       "      <td>Black</td>\n",
       "      <td>Female</td>\n",
       "      <td>0</td>\n",
       "      <td>0</td>\n",
       "      <td>40</td>\n",
       "      <td>Other</td>\n",
       "      <td>&lt;=50K</td>\n",
       "    </tr>\n",
       "  </tbody>\n",
       "</table>\n",
       "</div>"
      ],
      "text/plain": [
       "   age        work_class         education marital_status    occupation  \\\n",
       "0   39         State-gov         Bachelors  Never-Married         Admin   \n",
       "1   50  Self-emp-not-inc         Bachelors        Married  White-Collar   \n",
       "2   38           Private  High School grad      Separated   Blue-Collar   \n",
       "3   53           Private           Dropout        Married   Blue-Collar   \n",
       "4   28           Private         Bachelors        Married  Professional   \n",
       "\n",
       "    relationship   race     sex  capital_gain  capital_loss  hours_per_week  \\\n",
       "0  Not-in-family  White    Male          2174             0              40   \n",
       "1        Husband  White    Male             0             0              13   \n",
       "2  Not-in-family  White    Male             0             0              40   \n",
       "3        Husband  Black    Male             0             0              40   \n",
       "4           Wife  Black  Female             0             0              40   \n",
       "\n",
       "  native_country income  \n",
       "0  United-States  <=50K  \n",
       "1  United-States  <=50K  \n",
       "2  United-States  <=50K  \n",
       "3  United-States  <=50K  \n",
       "4          Other  <=50K  "
      ]
     },
     "execution_count": 5,
     "metadata": {},
     "output_type": "execute_result"
    }
   ],
   "source": [
    "# Visualizza le prime n righe del dataframe\n",
    "dataframe.head(5)"
   ]
  },
  {
   "cell_type": "code",
   "execution_count": 6,
   "metadata": {
    "colab": {
     "base_uri": "https://localhost:8080/"
    },
    "id": "CBmKy1k43vWC",
    "outputId": "9d6fc1da-798e-44b0-9245-f7697087e60e"
   },
   "outputs": [
    {
     "data": {
      "text/plain": [
       "(30162, 13)"
      ]
     },
     "execution_count": 6,
     "metadata": {},
     "output_type": "execute_result"
    }
   ],
   "source": [
    "# Ottieni la dimensione dal dataframe\n",
    "dataframe.shape"
   ]
  },
  {
   "cell_type": "code",
   "execution_count": 7,
   "metadata": {
    "colab": {
     "base_uri": "https://localhost:8080/"
    },
    "id": "B3ChSv0o3wYB",
    "outputId": "bc539125-4391-42b2-a8f0-34e644e30198"
   },
   "outputs": [
    {
     "name": "stdout",
     "output_type": "stream",
     "text": [
      "<class 'pandas.core.frame.DataFrame'>\n",
      "RangeIndex: 30162 entries, 0 to 30161\n",
      "Data columns (total 13 columns):\n",
      " #   Column          Non-Null Count  Dtype \n",
      "---  ------          --------------  ----- \n",
      " 0   age             30162 non-null  int64 \n",
      " 1   work_class      30162 non-null  object\n",
      " 2   education       30162 non-null  object\n",
      " 3   marital_status  30162 non-null  object\n",
      " 4   occupation      30162 non-null  object\n",
      " 5   relationship    30162 non-null  object\n",
      " 6   race            30162 non-null  object\n",
      " 7   sex             30162 non-null  object\n",
      " 8   capital_gain    30162 non-null  int64 \n",
      " 9   capital_loss    30162 non-null  int64 \n",
      " 10  hours_per_week  30162 non-null  int64 \n",
      " 11  native_country  30162 non-null  object\n",
      " 12  income          30162 non-null  object\n",
      "dtypes: int64(4), object(9)\n",
      "memory usage: 3.0+ MB\n"
     ]
    }
   ],
   "source": [
    "# Informazioni generiche sulle varie colonne\n",
    "dataframe.info()"
   ]
  },
  {
   "cell_type": "code",
   "execution_count": 8,
   "metadata": {
    "colab": {
     "base_uri": "https://localhost:8080/"
    },
    "id": "1SUBNo1EJUkb",
    "outputId": "7ad6909b-9b32-41ac-ab2b-031f58923b00"
   },
   "outputs": [
    {
     "name": "stdout",
     "output_type": "stream",
     "text": [
      "Index(['age', 'work_class', 'education', 'marital_status', 'occupation',\n",
      "       'relationship', 'race', 'sex', 'capital_gain', 'capital_loss',\n",
      "       'hours_per_week', 'native_country', 'income'],\n",
      "      dtype='object')\n",
      "0        39\n",
      "1        50\n",
      "2        38\n",
      "3        53\n",
      "4        28\n",
      "         ..\n",
      "30157    27\n",
      "30158    40\n",
      "30159    58\n",
      "30160    22\n",
      "30161    52\n",
      "Name: age, Length: 30162, dtype: int64\n",
      "count    30162.000000\n",
      "mean        38.437902\n",
      "std         13.134665\n",
      "min         17.000000\n",
      "25%         28.000000\n",
      "50%         37.000000\n",
      "75%         47.000000\n",
      "max         90.000000\n",
      "Name: age, dtype: float64\n"
     ]
    }
   ],
   "source": [
    "# Elenca colonne del dataframe\n",
    "print(dataframe.columns)\n",
    "\n",
    "# Accesso a singola colonna\n",
    "print(dataframe['age'])\n",
    "print(dataframe['age'].describe())"
   ]
  },
  {
   "cell_type": "code",
   "execution_count": 9,
   "metadata": {
    "colab": {
     "base_uri": "https://localhost:8080/"
    },
    "id": "3BLUdabpJUMt",
    "outputId": "469ff3e7-9c14-4baf-9ea4-3d086a940db7"
   },
   "outputs": [
    {
     "name": "stdout",
     "output_type": "stream",
     "text": [
      "unique labels ['Not-in-family' 'Husband' 'Wife' 'Own-child' 'Unmarried' 'Other-relative']\n",
      "label counts Husband           12463\n",
      "Not-in-family      7726\n",
      "Own-child          4466\n",
      "Unmarried          3212\n",
      "Wife               1406\n",
      "Other-relative      889\n",
      "Name: relationship, dtype: int64\n"
     ]
    }
   ],
   "source": [
    "# Conta etichette categoriche\n",
    "print('unique labels', dataframe['relationship'].unique())\n",
    "print('label counts', dataframe['relationship'].value_counts())"
   ]
  },
  {
   "cell_type": "code",
   "execution_count": null,
   "metadata": {
    "id": "CdcpCP7SJT6Q"
   },
   "outputs": [],
   "source": []
  },
  {
   "cell_type": "markdown",
   "metadata": {
    "id": "f8q3lYIGJTcA"
   },
   "source": [
    "# Definizione di un indice personalizzato"
   ]
  },
  {
   "cell_type": "code",
   "execution_count": 34,
   "metadata": {
    "id": "dIbJMLms4niN"
   },
   "outputs": [],
   "source": [
    "\n",
    "index = ['individuo_'+str(i) for i in range(dataframe.shape[0])]\n",
    "dataframe.index = index"
   ]
  },
  {
   "cell_type": "code",
   "execution_count": 35,
   "metadata": {
    "colab": {
     "base_uri": "https://localhost:8080/",
     "height": 206
    },
    "id": "XmEDHtfP4tZl",
    "outputId": "8f6e3924-e680-41c5-d2bf-9563de1901fd"
   },
   "outputs": [
    {
     "data": {
      "text/html": [
       "<div>\n",
       "<style scoped>\n",
       "    .dataframe tbody tr th:only-of-type {\n",
       "        vertical-align: middle;\n",
       "    }\n",
       "\n",
       "    .dataframe tbody tr th {\n",
       "        vertical-align: top;\n",
       "    }\n",
       "\n",
       "    .dataframe thead th {\n",
       "        text-align: right;\n",
       "    }\n",
       "</style>\n",
       "<table border=\"1\" class=\"dataframe\">\n",
       "  <thead>\n",
       "    <tr style=\"text-align: right;\">\n",
       "      <th></th>\n",
       "      <th>age</th>\n",
       "      <th>work_class</th>\n",
       "      <th>education</th>\n",
       "      <th>marital_status</th>\n",
       "      <th>occupation</th>\n",
       "      <th>relationship</th>\n",
       "      <th>race</th>\n",
       "      <th>sex</th>\n",
       "      <th>capital_gain</th>\n",
       "      <th>capital_loss</th>\n",
       "      <th>hours_per_week</th>\n",
       "      <th>native_country</th>\n",
       "      <th>income</th>\n",
       "      <th>nuova_feature1</th>\n",
       "      <th>nuova_feature2</th>\n",
       "    </tr>\n",
       "  </thead>\n",
       "  <tbody>\n",
       "    <tr>\n",
       "      <th>individuo_0</th>\n",
       "      <td>39</td>\n",
       "      <td>State-gov</td>\n",
       "      <td>Bachelors</td>\n",
       "      <td>Never-Married</td>\n",
       "      <td>Admin</td>\n",
       "      <td>Not-in-family</td>\n",
       "      <td>White</td>\n",
       "      <td>Male</td>\n",
       "      <td>2174</td>\n",
       "      <td>0</td>\n",
       "      <td>40</td>\n",
       "      <td>United-States</td>\n",
       "      <td>&lt;=50K</td>\n",
       "      <td>2174</td>\n",
       "      <td>True</td>\n",
       "    </tr>\n",
       "    <tr>\n",
       "      <th>individuo_1</th>\n",
       "      <td>50</td>\n",
       "      <td>Self-emp-not-inc</td>\n",
       "      <td>Bachelors</td>\n",
       "      <td>Married</td>\n",
       "      <td>White-Collar</td>\n",
       "      <td>Husband</td>\n",
       "      <td>White</td>\n",
       "      <td>Male</td>\n",
       "      <td>0</td>\n",
       "      <td>0</td>\n",
       "      <td>13</td>\n",
       "      <td>United-States</td>\n",
       "      <td>&lt;=50K</td>\n",
       "      <td>0</td>\n",
       "      <td>False</td>\n",
       "    </tr>\n",
       "    <tr>\n",
       "      <th>individuo_2</th>\n",
       "      <td>38</td>\n",
       "      <td>Private</td>\n",
       "      <td>High School grad</td>\n",
       "      <td>Separated</td>\n",
       "      <td>Blue-Collar</td>\n",
       "      <td>Not-in-family</td>\n",
       "      <td>White</td>\n",
       "      <td>Male</td>\n",
       "      <td>0</td>\n",
       "      <td>0</td>\n",
       "      <td>40</td>\n",
       "      <td>United-States</td>\n",
       "      <td>&lt;=50K</td>\n",
       "      <td>0</td>\n",
       "      <td>False</td>\n",
       "    </tr>\n",
       "    <tr>\n",
       "      <th>individuo_3</th>\n",
       "      <td>53</td>\n",
       "      <td>Private</td>\n",
       "      <td>Dropout</td>\n",
       "      <td>Married</td>\n",
       "      <td>Blue-Collar</td>\n",
       "      <td>Husband</td>\n",
       "      <td>Black</td>\n",
       "      <td>Male</td>\n",
       "      <td>0</td>\n",
       "      <td>0</td>\n",
       "      <td>40</td>\n",
       "      <td>United-States</td>\n",
       "      <td>&lt;=50K</td>\n",
       "      <td>0</td>\n",
       "      <td>False</td>\n",
       "    </tr>\n",
       "    <tr>\n",
       "      <th>individuo_4</th>\n",
       "      <td>28</td>\n",
       "      <td>Private</td>\n",
       "      <td>Bachelors</td>\n",
       "      <td>Married</td>\n",
       "      <td>Professional</td>\n",
       "      <td>Wife</td>\n",
       "      <td>Black</td>\n",
       "      <td>Female</td>\n",
       "      <td>0</td>\n",
       "      <td>0</td>\n",
       "      <td>40</td>\n",
       "      <td>Other</td>\n",
       "      <td>&lt;=50K</td>\n",
       "      <td>0</td>\n",
       "      <td>False</td>\n",
       "    </tr>\n",
       "  </tbody>\n",
       "</table>\n",
       "</div>"
      ],
      "text/plain": [
       "             age        work_class         education marital_status  \\\n",
       "individuo_0   39         State-gov         Bachelors  Never-Married   \n",
       "individuo_1   50  Self-emp-not-inc         Bachelors        Married   \n",
       "individuo_2   38           Private  High School grad      Separated   \n",
       "individuo_3   53           Private           Dropout        Married   \n",
       "individuo_4   28           Private         Bachelors        Married   \n",
       "\n",
       "               occupation   relationship   race     sex  capital_gain  \\\n",
       "individuo_0         Admin  Not-in-family  White    Male          2174   \n",
       "individuo_1  White-Collar        Husband  White    Male             0   \n",
       "individuo_2   Blue-Collar  Not-in-family  White    Male             0   \n",
       "individuo_3   Blue-Collar        Husband  Black    Male             0   \n",
       "individuo_4  Professional           Wife  Black  Female             0   \n",
       "\n",
       "             capital_loss  hours_per_week native_country income  \\\n",
       "individuo_0             0              40  United-States  <=50K   \n",
       "individuo_1             0              13  United-States  <=50K   \n",
       "individuo_2             0              40  United-States  <=50K   \n",
       "individuo_3             0              40  United-States  <=50K   \n",
       "individuo_4             0              40          Other  <=50K   \n",
       "\n",
       "             nuova_feature1  nuova_feature2  \n",
       "individuo_0            2174            True  \n",
       "individuo_1               0           False  \n",
       "individuo_2               0           False  \n",
       "individuo_3               0           False  \n",
       "individuo_4               0           False  "
      ]
     },
     "execution_count": 35,
     "metadata": {},
     "output_type": "execute_result"
    }
   ],
   "source": [
    "dataframe.head()"
   ]
  },
  {
   "cell_type": "code",
   "execution_count": 36,
   "metadata": {
    "colab": {
     "base_uri": "https://localhost:8080/"
    },
    "id": "ulseIddp4utf",
    "outputId": "5fb84ccd-33f0-486a-cd3b-5e3365929ec5"
   },
   "outputs": [
    {
     "data": {
      "text/plain": [
       "age                          39\n",
       "work_class            State-gov\n",
       "education             Bachelors\n",
       "marital_status    Never-Married\n",
       "occupation                Admin\n",
       "relationship      Not-in-family\n",
       "race                      White\n",
       "sex                        Male\n",
       "capital_gain               2174\n",
       "capital_loss                  0\n",
       "hours_per_week               40\n",
       "native_country    United-States\n",
       "income                    <=50K\n",
       "nuova_feature1             2174\n",
       "nuova_feature2             True\n",
       "Name: individuo_0, dtype: object"
      ]
     },
     "execution_count": 36,
     "metadata": {},
     "output_type": "execute_result"
    }
   ],
   "source": [
    "# Accesso a dataframe usando .loc e .iloc\n",
    "\n",
    "dataframe.loc['individuo_0']"
   ]
  },
  {
   "cell_type": "code",
   "execution_count": 37,
   "metadata": {
    "colab": {
     "base_uri": "https://localhost:8080/"
    },
    "id": "o-iD9hlD7nUw",
    "outputId": "b2b4891c-f75f-4eeb-c7c8-69e134151a67"
   },
   "outputs": [
    {
     "data": {
      "text/plain": [
       "age                          39\n",
       "work_class            State-gov\n",
       "education             Bachelors\n",
       "marital_status    Never-Married\n",
       "occupation                Admin\n",
       "relationship      Not-in-family\n",
       "race                      White\n",
       "sex                        Male\n",
       "capital_gain               2174\n",
       "capital_loss                  0\n",
       "hours_per_week               40\n",
       "native_country    United-States\n",
       "income                    <=50K\n",
       "nuova_feature1             2174\n",
       "nuova_feature2             True\n",
       "Name: individuo_0, dtype: object"
      ]
     },
     "execution_count": 37,
     "metadata": {},
     "output_type": "execute_result"
    }
   ],
   "source": [
    "dataframe.iloc[0]"
   ]
  },
  {
   "cell_type": "code",
   "execution_count": 38,
   "metadata": {
    "id": "bQz7gDdj7rA1"
   },
   "outputs": [],
   "source": [
    "# Conversione dataframe in numpy array\n",
    "np_array=dataframe.values"
   ]
  },
  {
   "cell_type": "code",
   "execution_count": 39,
   "metadata": {
    "id": "ZNZakHabKBnu"
   },
   "outputs": [
    {
     "data": {
      "text/plain": [
       "38.437901995888865"
      ]
     },
     "execution_count": 39,
     "metadata": {},
     "output_type": "execute_result"
    }
   ],
   "source": [
    "np_array[:,0].mean()"
   ]
  },
  {
   "cell_type": "markdown",
   "metadata": {
    "id": "6ZGagOWZKDKl"
   },
   "source": [
    "# Queries sul dataframe"
   ]
  },
  {
   "cell_type": "code",
   "execution_count": 40,
   "metadata": {
    "colab": {
     "base_uri": "https://localhost:8080/"
    },
    "id": "HpB3JQtVKjYA",
    "outputId": "63ec186e-4e30-4f4a-a37a-c545f20fda48"
   },
   "outputs": [
    {
     "name": "stdout",
     "output_type": "stream",
     "text": [
      "['Bachelors' 'High School grad' 'Dropout' 'Masters' 'Associates'\n",
      " 'Doctorate' 'Prof-School']\n"
     ]
    }
   ],
   "source": [
    "# Mostra etichette esistenti all'interno della colonna education\n",
    "print(dataframe['education'].unique())\n",
    "\n",
    "\n"
   ]
  },
  {
   "cell_type": "code",
   "execution_count": 45,
   "metadata": {
    "id": "VH9ft2jkXUL3"
   },
   "outputs": [
    {
     "data": {
      "text/html": [
       "<div>\n",
       "<style scoped>\n",
       "    .dataframe tbody tr th:only-of-type {\n",
       "        vertical-align: middle;\n",
       "    }\n",
       "\n",
       "    .dataframe tbody tr th {\n",
       "        vertical-align: top;\n",
       "    }\n",
       "\n",
       "    .dataframe thead th {\n",
       "        text-align: right;\n",
       "    }\n",
       "</style>\n",
       "<table border=\"1\" class=\"dataframe\">\n",
       "  <thead>\n",
       "    <tr style=\"text-align: right;\">\n",
       "      <th></th>\n",
       "      <th>age</th>\n",
       "      <th>work_class</th>\n",
       "      <th>education</th>\n",
       "      <th>marital_status</th>\n",
       "      <th>occupation</th>\n",
       "      <th>relationship</th>\n",
       "      <th>race</th>\n",
       "      <th>sex</th>\n",
       "      <th>capital_gain</th>\n",
       "      <th>capital_loss</th>\n",
       "      <th>hours_per_week</th>\n",
       "      <th>native_country</th>\n",
       "      <th>income</th>\n",
       "      <th>nuova_feature1</th>\n",
       "      <th>nuova_feature2</th>\n",
       "    </tr>\n",
       "  </thead>\n",
       "  <tbody>\n",
       "    <tr>\n",
       "      <th>individuo_0</th>\n",
       "      <td>39</td>\n",
       "      <td>State-gov</td>\n",
       "      <td>Bachelors</td>\n",
       "      <td>Never-Married</td>\n",
       "      <td>Admin</td>\n",
       "      <td>Not-in-family</td>\n",
       "      <td>White</td>\n",
       "      <td>Male</td>\n",
       "      <td>2174</td>\n",
       "      <td>0</td>\n",
       "      <td>40</td>\n",
       "      <td>United-States</td>\n",
       "      <td>&lt;=50K</td>\n",
       "      <td>2174</td>\n",
       "      <td>True</td>\n",
       "    </tr>\n",
       "    <tr>\n",
       "      <th>individuo_1</th>\n",
       "      <td>50</td>\n",
       "      <td>Self-emp-not-inc</td>\n",
       "      <td>Bachelors</td>\n",
       "      <td>Married</td>\n",
       "      <td>White-Collar</td>\n",
       "      <td>Husband</td>\n",
       "      <td>White</td>\n",
       "      <td>Male</td>\n",
       "      <td>0</td>\n",
       "      <td>0</td>\n",
       "      <td>13</td>\n",
       "      <td>United-States</td>\n",
       "      <td>&lt;=50K</td>\n",
       "      <td>0</td>\n",
       "      <td>False</td>\n",
       "    </tr>\n",
       "    <tr>\n",
       "      <th>individuo_4</th>\n",
       "      <td>28</td>\n",
       "      <td>Private</td>\n",
       "      <td>Bachelors</td>\n",
       "      <td>Married</td>\n",
       "      <td>Professional</td>\n",
       "      <td>Wife</td>\n",
       "      <td>Black</td>\n",
       "      <td>Female</td>\n",
       "      <td>0</td>\n",
       "      <td>0</td>\n",
       "      <td>40</td>\n",
       "      <td>Other</td>\n",
       "      <td>&lt;=50K</td>\n",
       "      <td>0</td>\n",
       "      <td>False</td>\n",
       "    </tr>\n",
       "    <tr>\n",
       "      <th>individuo_9</th>\n",
       "      <td>42</td>\n",
       "      <td>Private</td>\n",
       "      <td>Bachelors</td>\n",
       "      <td>Married</td>\n",
       "      <td>White-Collar</td>\n",
       "      <td>Husband</td>\n",
       "      <td>White</td>\n",
       "      <td>Male</td>\n",
       "      <td>5178</td>\n",
       "      <td>0</td>\n",
       "      <td>40</td>\n",
       "      <td>United-States</td>\n",
       "      <td>&gt;50K</td>\n",
       "      <td>5178</td>\n",
       "      <td>True</td>\n",
       "    </tr>\n",
       "    <tr>\n",
       "      <th>individuo_11</th>\n",
       "      <td>30</td>\n",
       "      <td>State-gov</td>\n",
       "      <td>Bachelors</td>\n",
       "      <td>Married</td>\n",
       "      <td>Professional</td>\n",
       "      <td>Husband</td>\n",
       "      <td>Asian-Pac-Islander</td>\n",
       "      <td>Male</td>\n",
       "      <td>0</td>\n",
       "      <td>0</td>\n",
       "      <td>40</td>\n",
       "      <td>British-Commonwealth</td>\n",
       "      <td>&gt;50K</td>\n",
       "      <td>0</td>\n",
       "      <td>False</td>\n",
       "    </tr>\n",
       "  </tbody>\n",
       "</table>\n",
       "</div>"
      ],
      "text/plain": [
       "              age        work_class  education marital_status    occupation  \\\n",
       "individuo_0    39         State-gov  Bachelors  Never-Married         Admin   \n",
       "individuo_1    50  Self-emp-not-inc  Bachelors        Married  White-Collar   \n",
       "individuo_4    28           Private  Bachelors        Married  Professional   \n",
       "individuo_9    42           Private  Bachelors        Married  White-Collar   \n",
       "individuo_11   30         State-gov  Bachelors        Married  Professional   \n",
       "\n",
       "               relationship                race     sex  capital_gain  \\\n",
       "individuo_0   Not-in-family               White    Male          2174   \n",
       "individuo_1         Husband               White    Male             0   \n",
       "individuo_4            Wife               Black  Female             0   \n",
       "individuo_9         Husband               White    Male          5178   \n",
       "individuo_11        Husband  Asian-Pac-Islander    Male             0   \n",
       "\n",
       "              capital_loss  hours_per_week        native_country income  \\\n",
       "individuo_0              0              40         United-States  <=50K   \n",
       "individuo_1              0              13         United-States  <=50K   \n",
       "individuo_4              0              40                 Other  <=50K   \n",
       "individuo_9              0              40         United-States   >50K   \n",
       "individuo_11             0              40  British-Commonwealth   >50K   \n",
       "\n",
       "              nuova_feature1  nuova_feature2  \n",
       "individuo_0             2174            True  \n",
       "individuo_1                0           False  \n",
       "individuo_4                0           False  \n",
       "individuo_9             5178            True  \n",
       "individuo_11               0           False  "
      ]
     },
     "execution_count": 45,
     "metadata": {},
     "output_type": "execute_result"
    }
   ],
   "source": [
    "# Query, seleziona individui con education=10th grade \n",
    "dataframe[dataframe['education']=='Bachelors'].head()"
   ]
  },
  {
   "cell_type": "code",
   "execution_count": 46,
   "metadata": {
    "id": "VH9ft2jkXUL3"
   },
   "outputs": [
    {
     "name": "stdout",
     "output_type": "stream",
     "text": [
      "Professional    0.289651\n",
      "White-Collar    0.264274\n",
      "Sales           0.157216\n",
      "Admin           0.098731\n",
      "Blue-Collar     0.090999\n",
      "Other           0.064036\n",
      "Service         0.034893\n",
      "Military        0.000198\n",
      "Name: occupation, dtype: float64\n"
     ]
    }
   ],
   "source": [
    "# Mostra distribuzione percentuale di occupazione per individui risultanti da query\n",
    "print(dataframe[dataframe['education']=='Bachelors']['occupation'].value_counts()/dataframe[dataframe['education']=='Bachelors'].shape[0])"
   ]
  },
  {
   "cell_type": "code",
   "execution_count": 47,
   "metadata": {
    "colab": {
     "base_uri": "https://localhost:8080/"
    },
    "id": "iFeaT7-BWaZw",
    "outputId": "e88dbd62-7663-4b56-9a33-ec113fd15d8c"
   },
   "outputs": [
    {
     "name": "stdout",
     "output_type": "stream",
     "text": [
      "Professional    0.503380\n",
      "White-Collar    0.301782\n",
      "Sales           0.079287\n",
      "Admin           0.041180\n",
      "Blue-Collar     0.032575\n",
      "Other           0.030117\n",
      "Service         0.011063\n",
      "Military        0.000615\n",
      "Name: occupation, dtype: float64\n"
     ]
    }
   ],
   "source": [
    "# Nuova query: uguale a prima ma con education = Masters\n",
    "print(dataframe[dataframe['education']=='Masters']['occupation'].value_counts()/dataframe[dataframe['education']=='Masters'].shape[0])\n"
   ]
  },
  {
   "cell_type": "code",
   "execution_count": 48,
   "metadata": {
    "colab": {
     "base_uri": "https://localhost:8080/"
    },
    "id": "5cm0meZG78L2",
    "outputId": "10afd7e8-036c-45f2-bfe6-9e7b97ed395a"
   },
   "outputs": [
    {
     "name": "stdout",
     "output_type": "stream",
     "text": [
      "Professional    0.203442\n",
      "White-Collar    0.064536\n",
      "Admin           0.017824\n",
      "Sales           0.012907\n",
      "Service         0.007376\n",
      "Other           0.004302\n",
      "Blue-Collar     0.002459\n",
      "Name: occupation, dtype: float64\n",
      "Professional    0.299939\n",
      "White-Collar    0.237246\n",
      "Sales           0.066380\n",
      "Blue-Collar     0.030117\n",
      "Other           0.025814\n",
      "Admin           0.023356\n",
      "Service         0.003688\n",
      "Military        0.000615\n",
      "Name: occupation, dtype: float64\n"
     ]
    }
   ],
   "source": [
    "# Una query piu' complicata, vediamo quali sono le occupazioni piu' comuni per donne in possesso di master\n",
    "print(dataframe[(dataframe['education']=='Masters') & (dataframe['sex']=='Female')]['occupation'].value_counts()/dataframe[dataframe['education']=='Masters'].shape[0])\n",
    "\n",
    "# Qui lo stesso ma per gli uomini\n",
    "print(dataframe[(dataframe['education']=='Masters') & (dataframe['sex']=='Male')]['occupation'].value_counts()/dataframe[dataframe['education']=='Masters'].shape[0])"
   ]
  },
  {
   "cell_type": "markdown",
   "metadata": {
    "id": "xecgs2gu8DM9"
   },
   "source": [
    "## Esempi di data cleaning e processing"
   ]
  },
  {
   "cell_type": "code",
   "execution_count": 49,
   "metadata": {
    "id": "_LW66y0uZDg6"
   },
   "outputs": [],
   "source": [
    "# Creazione di una nuova colonna come somma di due colonne esistenti\n",
    "\n",
    "dataframe['nuova_feature1']=dataframe['capital_gain']-dataframe['capital_loss']"
   ]
  },
  {
   "cell_type": "code",
   "execution_count": 50,
   "metadata": {
    "colab": {
     "base_uri": "https://localhost:8080/"
    },
    "id": "HHAA8XGvZzAa",
    "outputId": "0a1cd8f9-7c45-4fc9-ddcd-b511a2ff0611"
   },
   "outputs": [
    {
     "data": {
      "text/plain": [
       "count    30162.000000\n",
       "mean      1003.635369\n",
       "std       7430.372730\n",
       "min      -4356.000000\n",
       "25%          0.000000\n",
       "50%          0.000000\n",
       "75%          0.000000\n",
       "max      99999.000000\n",
       "Name: nuova_feature1, dtype: float64"
      ]
     },
     "execution_count": 50,
     "metadata": {},
     "output_type": "execute_result"
    }
   ],
   "source": [
    "dataframe['nuova_feature1'].describe()"
   ]
  },
  {
   "cell_type": "code",
   "execution_count": 51,
   "metadata": {
    "id": "Dc8ff0LkZ0o5"
   },
   "outputs": [],
   "source": [
    "dataframe['nuova_feature2'] = dataframe['nuova_feature1'].apply(lambda x: x>0)"
   ]
  },
  {
   "cell_type": "code",
   "execution_count": 52,
   "metadata": {
    "colab": {
     "base_uri": "https://localhost:8080/"
    },
    "id": "H1dhymdIaZk6",
    "outputId": "d0bbdb49-22c5-4cf8-d786-6b5e0982a63f"
   },
   "outputs": [
    {
     "data": {
      "text/plain": [
       "individuo_0         True\n",
       "individuo_1        False\n",
       "individuo_2        False\n",
       "individuo_3        False\n",
       "individuo_4        False\n",
       "                   ...  \n",
       "individuo_30157    False\n",
       "individuo_30158    False\n",
       "individuo_30159    False\n",
       "individuo_30160    False\n",
       "individuo_30161     True\n",
       "Name: nuova_feature2, Length: 30162, dtype: bool"
      ]
     },
     "execution_count": 52,
     "metadata": {},
     "output_type": "execute_result"
    }
   ],
   "source": [
    "dataframe['nuova_feature2'] "
   ]
  },
  {
   "cell_type": "code",
   "execution_count": 53,
   "metadata": {
    "id": "N7YfQYJ1av2J"
   },
   "outputs": [],
   "source": [
    "new_dataframe = dataframe.drop(['capital_gain','capital_loss'], axis=1)"
   ]
  },
  {
   "cell_type": "code",
   "execution_count": 54,
   "metadata": {
    "id": "OPT_ySbRbDPy"
   },
   "outputs": [],
   "source": [
    "categorical_columns = new_dataframe.columns[new_dataframe.dtypes=='object']\n",
    "\n",
    "for i in categorical_columns:\n",
    "    new_dataframe[i] = new_dataframe[i].fillna('missing')"
   ]
  },
  {
   "cell_type": "code",
   "execution_count": 55,
   "metadata": {
    "colab": {
     "base_uri": "https://localhost:8080/"
    },
    "id": "8QMtH8kucsrj",
    "outputId": "c1b7c194-b2a6-4d55-c6d8-d378d92d7750"
   },
   "outputs": [
    {
     "name": "stdout",
     "output_type": "stream",
     "text": [
      "<class 'pandas.core.frame.DataFrame'>\n",
      "Index: 30162 entries, individuo_0 to individuo_30161\n",
      "Data columns (total 13 columns):\n",
      " #   Column          Non-Null Count  Dtype \n",
      "---  ------          --------------  ----- \n",
      " 0   age             30162 non-null  int64 \n",
      " 1   work_class      30162 non-null  object\n",
      " 2   education       30162 non-null  object\n",
      " 3   marital_status  30162 non-null  object\n",
      " 4   occupation      30162 non-null  object\n",
      " 5   relationship    30162 non-null  object\n",
      " 6   race            30162 non-null  object\n",
      " 7   sex             30162 non-null  object\n",
      " 8   hours_per_week  30162 non-null  int64 \n",
      " 9   native_country  30162 non-null  object\n",
      " 10  income          30162 non-null  object\n",
      " 11  nuova_feature1  30162 non-null  int64 \n",
      " 12  nuova_feature2  30162 non-null  bool  \n",
      "dtypes: bool(1), int64(3), object(9)\n",
      "memory usage: 4.0+ MB\n"
     ]
    }
   ],
   "source": [
    "new_dataframe.info()"
   ]
  },
  {
   "cell_type": "code",
   "execution_count": 56,
   "metadata": {
    "colab": {
     "base_uri": "https://localhost:8080/"
    },
    "id": "NI_xW8-ocuFa",
    "outputId": "f2386219-1fa1-48f4-8632-8b7a6abb5ce3"
   },
   "outputs": [
    {
     "data": {
      "text/plain": [
       "array(['United-States', 'Other', 'Latin-America', 'British-Commonwealth',\n",
       "       'Germany', 'Iran', 'SE-Asia', 'Poland', 'South-America', 'China',\n",
       "       'Portugal', 'France', 'Italy', 'South', 'Japan', 'Yugoslavia',\n",
       "       'Greece', 'Hungary', 'Holand-Netherlands'], dtype=object)"
      ]
     },
     "execution_count": 56,
     "metadata": {},
     "output_type": "execute_result"
    }
   ],
   "source": [
    "new_dataframe['native_country'].unique()"
   ]
  },
  {
   "cell_type": "code",
   "execution_count": 57,
   "metadata": {
    "id": "tYPyy_sPc4bK"
   },
   "outputs": [],
   "source": [
    "new_dataframe.to_csv('./output.csv', compression='zip')"
   ]
  },
  {
   "cell_type": "code",
   "execution_count": null,
   "metadata": {},
   "outputs": [],
   "source": []
  }
 ],
 "metadata": {
  "colab": {
   "collapsed_sections": [],
   "provenance": []
  },
  "kernelspec": {
   "display_name": "Python 3 (ipykernel)",
   "language": "python",
   "name": "python3"
  },
  "language_info": {
   "codemirror_mode": {
    "name": "ipython",
    "version": 3
   },
   "file_extension": ".py",
   "mimetype": "text/x-python",
   "name": "python",
   "nbconvert_exporter": "python",
   "pygments_lexer": "ipython3",
   "version": "3.10.10"
  }
 },
 "nbformat": 4,
 "nbformat_minor": 1
}
